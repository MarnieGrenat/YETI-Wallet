{
 "cells": [
  {
   "attachments": {},
   "cell_type": "markdown",
   "metadata": {},
   "source": [
    "# NOTA: Para efeitos deste desafio, o sistema já deverá iniciar com dados de exemplo (pelo menos duas contas e 10 transações em cada conta, em meses variados).\n",
    "\n",
    "Levando em consideração esta nota, vou fazer uma entrada inicial de dívidas e transações;\n",
    "\n",
    "python: 3.10.11"
   ]
  },
  {
   "cell_type": "code",
   "execution_count": null,
   "metadata": {},
   "outputs": [],
   "source": [
    "!pip install pandas==1.5.3"
   ]
  },
  {
   "cell_type": "code",
   "execution_count": 5,
   "metadata": {},
   "outputs": [
    {
     "ename": "ValueError",
     "evalue": "time data '14042023' does not match format '%d/%m/%Y' (match)",
     "output_type": "error",
     "traceback": [
      "\u001b[1;31m---------------------------------------------------------------------------\u001b[0m",
      "\u001b[1;31mValueError\u001b[0m                                Traceback (most recent call last)",
      "Cell \u001b[1;32mIn[5], line 18\u001b[0m\n\u001b[0;32m      4\u001b[0m data \u001b[39m=\u001b[39m [\n\u001b[0;32m      5\u001b[0m     {\u001b[39m'\u001b[39m\u001b[39mDATA\u001b[39m\u001b[39m'\u001b[39m: \u001b[39m'\u001b[39m\u001b[39m14042023\u001b[39m\u001b[39m'\u001b[39m, \u001b[39m'\u001b[39m\u001b[39mTIPO\u001b[39m\u001b[39m'\u001b[39m: \u001b[39m0\u001b[39m, \u001b[39m'\u001b[39m\u001b[39mCATEGORIA\u001b[39m\u001b[39m'\u001b[39m: \u001b[39m5\u001b[39m, \u001b[39m'\u001b[39m\u001b[39mDESCRICAO\u001b[39m\u001b[39m'\u001b[39m: \u001b[39m'\u001b[39m\u001b[39mALMOCO\u001b[39m\u001b[39m'\u001b[39m, \u001b[39m'\u001b[39m\u001b[39mVALOR\u001b[39m\u001b[39m'\u001b[39m: \u001b[39m20.00\u001b[39m, \u001b[39m'\u001b[39m\u001b[39mSYSTEM_DATE\u001b[39m\u001b[39m'\u001b[39m:datetime\u001b[39m.\u001b[39mdatetime\u001b[39m.\u001b[39mnow()},\n\u001b[0;32m      6\u001b[0m     {\u001b[39m'\u001b[39m\u001b[39mDATA\u001b[39m\u001b[39m'\u001b[39m: \u001b[39m'\u001b[39m\u001b[39m14042023\u001b[39m\u001b[39m'\u001b[39m, \u001b[39m'\u001b[39m\u001b[39mTIPO\u001b[39m\u001b[39m'\u001b[39m: \u001b[39m1\u001b[39m, \u001b[39m'\u001b[39m\u001b[39mCATEGORIA\u001b[39m\u001b[39m'\u001b[39m: \u001b[39m1\u001b[39m, \u001b[39m'\u001b[39m\u001b[39mDESCRICAO\u001b[39m\u001b[39m'\u001b[39m: \u001b[39m'\u001b[39m\u001b[39mTRANSPORTE\u001b[39m\u001b[39m'\u001b[39m, \u001b[39m'\u001b[39m\u001b[39mVALOR\u001b[39m\u001b[39m'\u001b[39m: \u001b[39m50.00\u001b[39m, \u001b[39m'\u001b[39m\u001b[39mSYSTEM_DATE\u001b[39m\u001b[39m'\u001b[39m:datetime\u001b[39m.\u001b[39mdatetime\u001b[39m.\u001b[39mnow()},\n\u001b[1;32m   (...)\u001b[0m\n\u001b[0;32m     14\u001b[0m     {\u001b[39m'\u001b[39m\u001b[39mDATA\u001b[39m\u001b[39m'\u001b[39m: \u001b[39m'\u001b[39m\u001b[39m14062023\u001b[39m\u001b[39m'\u001b[39m, \u001b[39m'\u001b[39m\u001b[39mTIPO\u001b[39m\u001b[39m'\u001b[39m: \u001b[39m0\u001b[39m, \u001b[39m'\u001b[39m\u001b[39mCATEGORIA\u001b[39m\u001b[39m'\u001b[39m: \u001b[39m5\u001b[39m, \u001b[39m'\u001b[39m\u001b[39mDESCRICAO\u001b[39m\u001b[39m'\u001b[39m: \u001b[39m'\u001b[39m\u001b[39mSALARIO\u001b[39m\u001b[39m'\u001b[39m, \u001b[39m'\u001b[39m\u001b[39mVALOR\u001b[39m\u001b[39m'\u001b[39m: \u001b[39m2000.00\u001b[39m, \u001b[39m'\u001b[39m\u001b[39mSYSTEM_DATE\u001b[39m\u001b[39m'\u001b[39m:datetime\u001b[39m.\u001b[39mdatetime\u001b[39m.\u001b[39mnow()}\n\u001b[0;32m     15\u001b[0m ]\n\u001b[0;32m     16\u001b[0m df \u001b[39m=\u001b[39m pd\u001b[39m.\u001b[39mDataFrame(data)\n\u001b[1;32m---> 18\u001b[0m df\u001b[39m.\u001b[39mDATA \u001b[39m=\u001b[39m pd\u001b[39m.\u001b[39;49mto_datetime(df\u001b[39m.\u001b[39;49mDATA, \u001b[39mformat\u001b[39;49m\u001b[39m=\u001b[39;49m\u001b[39m'\u001b[39;49m\u001b[39m%d\u001b[39;49;00m\u001b[39m/\u001b[39;49m\u001b[39m%\u001b[39;49m\u001b[39mm/\u001b[39;49m\u001b[39m%\u001b[39;49m\u001b[39mY\u001b[39;49m\u001b[39m'\u001b[39;49m)\n\u001b[0;32m     19\u001b[0m df\u001b[39m.\u001b[39mSYSTEM_DATE \u001b[39m=\u001b[39m pd\u001b[39m.\u001b[39mto_datetime(df\u001b[39m.\u001b[39mSYSTEM_DATE, \u001b[39mformat\u001b[39m\u001b[39m=\u001b[39m\u001b[39m'\u001b[39m\u001b[39m%d\u001b[39;00m\u001b[39m/\u001b[39m\u001b[39m%\u001b[39m\u001b[39mm/\u001b[39m\u001b[39m%\u001b[39m\u001b[39mY \u001b[39m\u001b[39m%\u001b[39m\u001b[39mH:\u001b[39m\u001b[39m%\u001b[39m\u001b[39mM:\u001b[39m\u001b[39m%\u001b[39m\u001b[39mS.\u001b[39m\u001b[39m%f\u001b[39;00m\u001b[39m'\u001b[39m)\n\u001b[0;32m     20\u001b[0m df\u001b[39m.\u001b[39mTIPO \u001b[39m=\u001b[39m df\u001b[39m.\u001b[39mTIPO\u001b[39m.\u001b[39mastype(\u001b[39m'\u001b[39m\u001b[39mint8\u001b[39m\u001b[39m'\u001b[39m)\n",
      "File \u001b[1;32mc:\\Users\\Marnie\\anaconda3\\envs\\cpa\\lib\\site-packages\\pandas\\core\\tools\\datetimes.py:1068\u001b[0m, in \u001b[0;36mto_datetime\u001b[1;34m(arg, errors, dayfirst, yearfirst, utc, format, exact, unit, infer_datetime_format, origin, cache)\u001b[0m\n\u001b[0;32m   1066\u001b[0m         result \u001b[39m=\u001b[39m arg\u001b[39m.\u001b[39mmap(cache_array)\n\u001b[0;32m   1067\u001b[0m     \u001b[39melse\u001b[39;00m:\n\u001b[1;32m-> 1068\u001b[0m         values \u001b[39m=\u001b[39m convert_listlike(arg\u001b[39m.\u001b[39;49m_values, \u001b[39mformat\u001b[39;49m)\n\u001b[0;32m   1069\u001b[0m         result \u001b[39m=\u001b[39m arg\u001b[39m.\u001b[39m_constructor(values, index\u001b[39m=\u001b[39marg\u001b[39m.\u001b[39mindex, name\u001b[39m=\u001b[39marg\u001b[39m.\u001b[39mname)\n\u001b[0;32m   1070\u001b[0m \u001b[39melif\u001b[39;00m \u001b[39misinstance\u001b[39m(arg, (ABCDataFrame, abc\u001b[39m.\u001b[39mMutableMapping)):\n",
      "File \u001b[1;32mc:\\Users\\Marnie\\anaconda3\\envs\\cpa\\lib\\site-packages\\pandas\\core\\tools\\datetimes.py:430\u001b[0m, in \u001b[0;36m_convert_listlike_datetimes\u001b[1;34m(arg, format, name, tz, unit, errors, infer_datetime_format, dayfirst, yearfirst, exact)\u001b[0m\n\u001b[0;32m    427\u001b[0m         \u001b[39mformat\u001b[39m \u001b[39m=\u001b[39m \u001b[39mNone\u001b[39;00m\n\u001b[0;32m    429\u001b[0m \u001b[39mif\u001b[39;00m \u001b[39mformat\u001b[39m \u001b[39mis\u001b[39;00m \u001b[39mnot\u001b[39;00m \u001b[39mNone\u001b[39;00m:\n\u001b[1;32m--> 430\u001b[0m     res \u001b[39m=\u001b[39m _to_datetime_with_format(\n\u001b[0;32m    431\u001b[0m         arg, orig_arg, name, tz, \u001b[39mformat\u001b[39;49m, exact, errors, infer_datetime_format\n\u001b[0;32m    432\u001b[0m     )\n\u001b[0;32m    433\u001b[0m     \u001b[39mif\u001b[39;00m res \u001b[39mis\u001b[39;00m \u001b[39mnot\u001b[39;00m \u001b[39mNone\u001b[39;00m:\n\u001b[0;32m    434\u001b[0m         \u001b[39mreturn\u001b[39;00m res\n",
      "File \u001b[1;32mc:\\Users\\Marnie\\anaconda3\\envs\\cpa\\lib\\site-packages\\pandas\\core\\tools\\datetimes.py:538\u001b[0m, in \u001b[0;36m_to_datetime_with_format\u001b[1;34m(arg, orig_arg, name, tz, fmt, exact, errors, infer_datetime_format)\u001b[0m\n\u001b[0;32m    535\u001b[0m         \u001b[39mreturn\u001b[39;00m _box_as_indexlike(result, utc\u001b[39m=\u001b[39mutc, name\u001b[39m=\u001b[39mname)\n\u001b[0;32m    537\u001b[0m \u001b[39m# fallback\u001b[39;00m\n\u001b[1;32m--> 538\u001b[0m res \u001b[39m=\u001b[39m _array_strptime_with_fallback(\n\u001b[0;32m    539\u001b[0m     arg, name, tz, fmt, exact, errors, infer_datetime_format\n\u001b[0;32m    540\u001b[0m )\n\u001b[0;32m    541\u001b[0m \u001b[39mreturn\u001b[39;00m res\n",
      "File \u001b[1;32mc:\\Users\\Marnie\\anaconda3\\envs\\cpa\\lib\\site-packages\\pandas\\core\\tools\\datetimes.py:473\u001b[0m, in \u001b[0;36m_array_strptime_with_fallback\u001b[1;34m(arg, name, tz, fmt, exact, errors, infer_datetime_format)\u001b[0m\n\u001b[0;32m    470\u001b[0m utc \u001b[39m=\u001b[39m tz \u001b[39m==\u001b[39m \u001b[39m\"\u001b[39m\u001b[39mutc\u001b[39m\u001b[39m\"\u001b[39m\n\u001b[0;32m    472\u001b[0m \u001b[39mtry\u001b[39;00m:\n\u001b[1;32m--> 473\u001b[0m     result, timezones \u001b[39m=\u001b[39m array_strptime(arg, fmt, exact\u001b[39m=\u001b[39;49mexact, errors\u001b[39m=\u001b[39;49merrors)\n\u001b[0;32m    474\u001b[0m \u001b[39mexcept\u001b[39;00m OutOfBoundsDatetime:\n\u001b[0;32m    475\u001b[0m     \u001b[39mif\u001b[39;00m errors \u001b[39m==\u001b[39m \u001b[39m\"\u001b[39m\u001b[39mraise\u001b[39m\u001b[39m\"\u001b[39m:\n",
      "File \u001b[1;32mc:\\Users\\Marnie\\anaconda3\\envs\\cpa\\lib\\site-packages\\pandas\\_libs\\tslibs\\strptime.pyx:150\u001b[0m, in \u001b[0;36mpandas._libs.tslibs.strptime.array_strptime\u001b[1;34m()\u001b[0m\n",
      "\u001b[1;31mValueError\u001b[0m: time data '14042023' does not match format '%d/%m/%Y' (match)"
     ]
    }
   ],
   "source": [
    "import pandas as pd\n",
    "import datetime\n",
    "\n",
    "data = [\n",
    "    {'DATA': '14042023', 'TIPO': 0, 'CATEGORIA': 5, 'DESCRICAO': 'ALMOCO', 'VALOR': 20.00, 'SYSTEM_DATE':datetime.datetime.now()},\n",
    "    {'DATA': '14042023', 'TIPO': 1, 'CATEGORIA': 1, 'DESCRICAO': 'TRANSPORTE', 'VALOR': 50.00, 'SYSTEM_DATE':datetime.datetime.now()},\n",
    "    {'DATA': '14042023', 'TIPO': 0, 'CATEGORIA': 3, 'DESCRICAO': 'SAUDE', 'VALOR': 100.00, 'SYSTEM_DATE':datetime.datetime.now()},\n",
    "    {'DATA': '14042023', 'TIPO': 1, 'CATEGORIA': 7, 'DESCRICAO': 'CINEMA', 'VALOR': 30.00, 'SYSTEM_DATE':datetime.datetime.now()},\n",
    "    {'DATA': '14042023', 'TIPO': 0, 'CATEGORIA': 5, 'DESCRICAO': 'SALARIO', 'VALOR': 2000.00, 'SYSTEM_DATE':datetime.datetime.now()},\n",
    "    {'DATA': '14062023', 'TIPO': 0, 'CATEGORIA': 5, 'DESCRICAO': 'ALMOCO', 'VALOR': 20.00, 'SYSTEM_DATE':datetime.datetime.now()},\n",
    "    {'DATA': '14062023', 'TIPO': 1, 'CATEGORIA': 1, 'DESCRICAO': 'TRANSPORTE', 'VALOR': 50.00, 'SYSTEM_DATE':datetime.datetime.now()},\n",
    "    {'DATA': '14062023', 'TIPO': 0, 'CATEGORIA': 3, 'DESCRICAO': 'SAUDE', 'VALOR': 100.00, 'SYSTEM_DATE':datetime.datetime.now()},\n",
    "    {'DATA': '14062023', 'TIPO': 1, 'CATEGORIA': 7, 'DESCRICAO': 'CINEMA', 'VALOR': 30.00, 'SYSTEM_DATE':datetime.datetime.now()},\n",
    "    {'DATA': '14062023', 'TIPO': 0, 'CATEGORIA': 5, 'DESCRICAO': 'SALARIO', 'VALOR': 2000.00, 'SYSTEM_DATE':datetime.datetime.now()}\n",
    "]\n",
    "df = pd.DataFrame(data)\n",
    "\n",
    "df.DATA = pd.to_datetime(df.DATA, format='%%Y/%m/%d')\n",
    "df.SYSTEM_DATE = pd.to_datetime(df.SYSTEM_DATE, format='%%Y/%m/%d %H:%M:%S.%f')\n",
    "df.TIPO = df.TIPO.astype('int8')\n",
    "df.CATEGORIA = df.CATEGORIA.astype('int16')\n",
    "df.DESCRICAO = df.DESCRICAO.astype('str')\n",
    "df.VALOR = df.VALOR.astype('float32')\n",
    "df.info()"
   ]
  },
  {
   "cell_type": "code",
   "execution_count": 2,
   "metadata": {},
   "outputs": [],
   "source": [
    "df.to_csv('database.csv', sep=';', index=False)"
   ]
  },
  {
   "cell_type": "code",
   "execution_count": null,
   "metadata": {},
   "outputs": [],
   "source": []
  }
 ],
 "metadata": {
  "kernelspec": {
   "display_name": "cpa",
   "language": "python",
   "name": "python3"
  },
  "language_info": {
   "codemirror_mode": {
    "name": "ipython",
    "version": 3
   },
   "file_extension": ".py",
   "mimetype": "text/x-python",
   "name": "python",
   "nbconvert_exporter": "python",
   "pygments_lexer": "ipython3",
   "version": "3.10.11"
  },
  "orig_nbformat": 4
 },
 "nbformat": 4,
 "nbformat_minor": 2
}
